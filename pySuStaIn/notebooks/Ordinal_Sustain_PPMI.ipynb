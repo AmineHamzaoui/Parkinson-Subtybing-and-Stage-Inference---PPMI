{
 "cells": [
  {
   "cell_type": "code",
   "execution_count": 1,
   "id": "9c0d2ba9-a6e3-4e56-b9d7-290bd2318d08",
   "metadata": {},
   "outputs": [],
   "source": [
    "import pandas as pd"
   ]
  },
  {
   "cell_type": "code",
   "execution_count": 2,
   "id": "0451f0be-6d4f-45a9-a229-8f8e70b44a24",
   "metadata": {},
   "outputs": [
    {
     "name": "stderr",
     "output_type": "stream",
     "text": [
      "C:\\Users\\nss_1\\AppData\\Local\\Temp\\ipykernel_30300\\3495069841.py:1: DtypeWarning: Columns (4,11,12,58,112,193,202,204) have mixed types. Specify dtype option on import or set low_memory=False.\n",
      "  df= pd.read_csv('C:/Users/nss_1/Desktop/SustalIn/pySuStaIn/notebooks/result_4_long_format.csv',sep=';')\n"
     ]
    }
   ],
   "source": [
    "df= pd.read_csv('C:/Users/nss_1/Desktop/SustalIn/pySuStaIn/notebooks/result_4_long_format.csv',sep=';')"
   ]
  },
  {
   "cell_type": "code",
   "execution_count": 6,
   "id": "d4ec9775-45a9-4523-bf47-3d6801bd1cee",
   "metadata": {},
   "outputs": [
    {
     "name": "stdout",
     "output_type": "stream",
     "text": [
      "Ordinal variables (3 to 5 unique non-null values):\n",
      "['COGCAT', 'COGCAT_TEXT', 'COGDXCL', 'COGSTATE', 'COHORT', 'DBSOFFTM', 'DXLVL', 'FEATAPATHY', 'FEATBWLDYS', 'FEATCLRLEV', 'FEATCOGFLC', 'FEATCRTSNS', 'FEATDCRARM', 'FEATDELHAL', 'FEATDEPRES', 'FEATDIMOLF', 'FEATDYSART', 'FEATDYSKIN', 'FEATDYSPHG', 'FEATDYSTNA', 'FEATGZEPAL', 'FEATINSPST', 'FEATLMBAPX', 'FEATMCRGRA', 'FEATMTRFLC', 'FEATMYCLNS', 'FEATNEURSS', 'FEATNOLEVO', 'FEATPOSHYP', 'FEATPST3YR', 'FEATPYRTCT', 'FEATSBDERM', 'FEATSEXDYS', 'FEATSHGAIT', 'FEATSTPPOS', 'FEATSUGRBD', 'FEATURNDYS', 'FEATWDGAIT', 'MCAABSTR', 'MCASER7', 'MCASNTNC', 'MRIRSLT', 'NP1ANXS', 'NP1APAT', 'NP1COG', 'NP1DPRS', 'NP1HALL', 'NP2DRES', 'NP2EAT', 'NP2FREZ', 'NP2HOBB', 'NP2HWRT', 'NP2HYGN', 'NP2RISE', 'NP2SALV', 'NP2SPCH', 'NP2SWAL', 'NP2TRMR', 'NP2TURN', 'NP2WALK', 'NP3PTRML', 'NP3RTALL', 'NP3RTARL', 'NP3SPCH', 'NUPSOURC_prev', 'NUPSOURC_score2', 'OFFNORSN', 'ONNORSN', 'PTCGBOTH', 'STAIAD1', 'STAIAD10', 'STAIAD11', 'STAIAD12', 'STAIAD13', 'STAIAD14', 'STAIAD15', 'STAIAD16', 'STAIAD17', 'STAIAD18', 'STAIAD19', 'STAIAD2', 'STAIAD20', 'STAIAD21', 'STAIAD22', 'STAIAD23', 'STAIAD24', 'STAIAD25', 'STAIAD26', 'STAIAD27', 'STAIAD28', 'STAIAD29', 'STAIAD3', 'STAIAD30', 'STAIAD31', 'STAIAD32', 'STAIAD33', 'STAIAD34', 'STAIAD35', 'STAIAD36', 'STAIAD37', 'STAIAD38', 'STAIAD39', 'STAIAD4', 'STAIAD40', 'STAIAD5', 'STAIAD6', 'STAIAD7', 'STAIAD8', 'STAIAD9']\n"
     ]
    }
   ],
   "source": [
    "ordinal_vars = [\n",
    "    col for col in df.columns\n",
    "    if 3 <= df[col].dropna().nunique() <= 5\n",
    "]\n",
    "\n",
    "print(\"Ordinal variables (3 to 5 unique non-null values):\")\n",
    "print(ordinal_vars)"
   ]
  },
  {
   "cell_type": "code",
   "execution_count": null,
   "id": "67996419-dc5f-4338-8837-f2f633f53c20",
   "metadata": {},
   "outputs": [],
   "source": [
    "#Columns to try alone because they're missing value exceed 50%\n",
    "#'DXLVL'(v02,v04,v05,v06,v08)\n",
    "#FEATAPATHY V04,v05,v06,v08\n",
    "#FEATBWLDYS\n",
    "#FEATCLRLEV\n",
    "#FEATGZEPAL\tFEATINSPST\tFEATLMBAPX\tFEATMCRGRA\tFEATMTRFLC\n",
    "#FEATSHGAIT\tFEATSTPPOS\tFEATSUGRBD\n",
    "#NP Scores could be imputed over all events"
   ]
  },
  {
   "cell_type": "code",
   "execution_count": 10,
   "id": "3e9097b7-b9c8-4a19-889b-3ac2dcf692be",
   "metadata": {},
   "outputs": [],
   "source": [
    "required_visits = [\"V04\", \"V06\", \"V08\"]\n",
    "ordinal_vars = ['COGCAT', 'COGDXCL', 'COGSTATE', 'COHORT', 'FEATCOGFLC', 'FEATCRTSNS', 'FEATDCRARM', \n",
    "                'FEATDELHAL', 'FEATDEPRES', 'FEATDIMOLF', 'FEATDYSART', 'FEATDYSKIN',\n",
    "                'FEATDYSPHG', 'FEATDYSTNA', 'FEATMYCLNS',\n",
    "                'FEATNEURSS', 'FEATNOLEVO', 'FEATPOSHYP', 'FEATPST3YR', 'FEATPYRTCT', 'FEATSBDERM', \n",
    "                'FEATSEXDYS', 'FEATURNDYS', 'FEATWDGAIT', 'MCAABSTR', 'MCASER7', 'MCASNTNC', 'MRIRSLT', \n",
    "                'NP1ANXS', 'NP1APAT', 'NP1COG', 'NP1DPRS', 'NP1HALL', 'NP2DRES', 'NP2EAT', 'NP2FREZ', \n",
    "                'NP2HOBB', 'NP2HWRT', 'NP2HYGN', 'NP2RISE', 'NP2SALV', 'NP2SPCH', 'NP2SWAL', 'NP2TRMR', \n",
    "                'NP2TURN', 'NP2WALK', 'NP3PTRML', 'NP3RTALL', 'NP3RTARL', 'NP3SPCH', 'PTCGBOTH', \n",
    "                'STAIAD1', 'STAIAD10', 'STAIAD11', 'STAIAD12', 'STAIAD13', 'STAIAD14', 'STAIAD15', \n",
    "                'STAIAD16', 'STAIAD17', 'STAIAD18', 'STAIAD19', 'STAIAD2', 'STAIAD20', 'STAIAD21', \n",
    "                'STAIAD22', 'STAIAD23', 'STAIAD24', 'STAIAD25', 'STAIAD26', 'STAIAD27', 'STAIAD28', \n",
    "                'STAIAD29', 'STAIAD3', 'STAIAD30', 'STAIAD31', 'STAIAD32', 'STAIAD33', 'STAIAD34', \n",
    "                'STAIAD35', 'STAIAD36', 'STAIAD37', 'STAIAD38', 'STAIAD39', 'STAIAD4', 'STAIAD40', \n",
    "                'STAIAD5', 'STAIAD6', 'STAIAD7', 'STAIAD8', 'STAIAD9']\n"
   ]
  },
  {
   "cell_type": "code",
   "execution_count": 11,
   "id": "3fb347ea-c673-4569-8754-f44fd1142ed4",
   "metadata": {},
   "outputs": [],
   "source": [
    "selected_columns = [\"PATNO\", \"AGE_AT_VISIT\", \"FINAL_SEX_ENCODED\", \"COHORT\"] + ordinal_vars + [\"EVENT_ID\"]"
   ]
  },
  {
   "cell_type": "code",
   "execution_count": 12,
   "id": "2f498ed9-6ab5-4d50-987a-fd3833677e24",
   "metadata": {},
   "outputs": [],
   "source": [
    "df_prod_pd = df[df[\"COHORT\"].isin([\"PD\", \"Prodromal\"])]"
   ]
  },
  {
   "cell_type": "code",
   "execution_count": 13,
   "id": "ca92ec50-32f3-40d8-a0d8-0b24fe3b33ba",
   "metadata": {},
   "outputs": [],
   "source": [
    "# import the python packages needed to generate simulated data for the tutorial\n",
    "import os\n",
    "import shutil\n",
    "import numpy as np\n",
    "import matplotlib.pyplot as plt\n",
    "import pickle\n",
    "from pathlib import Path\n",
    "import sklearn.model_selection\n",
    "import pandas as pd\n",
    "import pylab\n",
    "import sys\n",
    "import pySuStaIn\n",
    "\n",
    "# this needs to point to wherever the sim folder inside pySuStaIn is on your computer\n",
    "#sys.path.insert(0,'/Users/alexandrayoung/Documents/Code/pySuStaIn-test/pySuStaIn/sim/')\n",
    "# if you're running the notebook from within the existing structure you can use\n",
    "sys.path.insert(0,'../sim/')\n",
    "from simfuncs import generate_random_Zscore_sustain_model, generate_data_Zscore_sustain"
   ]
  },
  {
   "cell_type": "code",
   "execution_count": 14,
   "id": "4c2635a4-a789-404e-9a81-523cc248a2d4",
   "metadata": {},
   "outputs": [],
   "source": [
    "df_control = df[df[\"COHORT\"].isin([\"Healthy Control\"])]"
   ]
  },
  {
   "cell_type": "code",
   "execution_count": 15,
   "id": "b70b51ff-5d0e-4ad2-8fca-0683a368a143",
   "metadata": {},
   "outputs": [
    {
     "ename": "NameError",
     "evalue": "name 'cog_cols' is not defined",
     "output_type": "error",
     "traceback": [
      "\u001b[1;31m---------------------------------------------------------------------------\u001b[0m",
      "\u001b[1;31mNameError\u001b[0m                                 Traceback (most recent call last)",
      "Cell \u001b[1;32mIn[15], line 5\u001b[0m\n\u001b[0;32m      2\u001b[0m \u001b[38;5;28;01mdef\u001b[39;00m \u001b[38;5;21mis_patient_valid\u001b[39m(group):\n\u001b[0;32m      3\u001b[0m     \u001b[38;5;28;01mreturn\u001b[39;00m (\u001b[38;5;28mlen\u001b[39m(group) \u001b[38;5;241m==\u001b[39m \u001b[38;5;241m3\u001b[39m) \u001b[38;5;129;01mand\u001b[39;00m (\u001b[38;5;129;01mnot\u001b[39;00m group[cog_cols]\u001b[38;5;241m.\u001b[39misnull()\u001b[38;5;241m.\u001b[39many()\u001b[38;5;241m.\u001b[39many())\n\u001b[1;32m----> 5\u001b[0m df_control \u001b[38;5;241m=\u001b[39m \u001b[43mdf_control\u001b[49m\u001b[38;5;241;43m.\u001b[39;49m\u001b[43mgroupby\u001b[49m\u001b[43m(\u001b[49m\u001b[38;5;124;43m\"\u001b[39;49m\u001b[38;5;124;43mPATNO\u001b[39;49m\u001b[38;5;124;43m\"\u001b[39;49m\u001b[43m)\u001b[49m\u001b[38;5;241;43m.\u001b[39;49m\u001b[43mfilter\u001b[49m\u001b[43m(\u001b[49m\u001b[43mis_patient_valid\u001b[49m\u001b[43m)\u001b[49m\n",
      "File \u001b[1;32m~\\AppData\\Local\\Programs\\Python\\Python311\\Lib\\site-packages\\pandas\\core\\groupby\\generic.py:1919\u001b[0m, in \u001b[0;36mDataFrameGroupBy.filter\u001b[1;34m(self, func, dropna, *args, **kwargs)\u001b[0m\n\u001b[0;32m   1914\u001b[0m \u001b[38;5;28;01mfor\u001b[39;00m name, group \u001b[38;5;129;01min\u001b[39;00m gen:\n\u001b[0;32m   1915\u001b[0m     \u001b[38;5;66;03m# 2023-02-27 no tests are broken this pinning, but it is documented in the\u001b[39;00m\n\u001b[0;32m   1916\u001b[0m     \u001b[38;5;66;03m#  docstring above.\u001b[39;00m\n\u001b[0;32m   1917\u001b[0m     \u001b[38;5;28mobject\u001b[39m\u001b[38;5;241m.\u001b[39m\u001b[38;5;21m__setattr__\u001b[39m(group, \u001b[38;5;124m\"\u001b[39m\u001b[38;5;124mname\u001b[39m\u001b[38;5;124m\"\u001b[39m, name)\n\u001b[1;32m-> 1919\u001b[0m     res \u001b[38;5;241m=\u001b[39m \u001b[43mfunc\u001b[49m\u001b[43m(\u001b[49m\u001b[43mgroup\u001b[49m\u001b[43m,\u001b[49m\u001b[43m \u001b[49m\u001b[38;5;241;43m*\u001b[39;49m\u001b[43margs\u001b[49m\u001b[43m,\u001b[49m\u001b[43m \u001b[49m\u001b[38;5;241;43m*\u001b[39;49m\u001b[38;5;241;43m*\u001b[39;49m\u001b[43mkwargs\u001b[49m\u001b[43m)\u001b[49m\n\u001b[0;32m   1921\u001b[0m     \u001b[38;5;28;01mtry\u001b[39;00m:\n\u001b[0;32m   1922\u001b[0m         res \u001b[38;5;241m=\u001b[39m res\u001b[38;5;241m.\u001b[39msqueeze()\n",
      "Cell \u001b[1;32mIn[15], line 3\u001b[0m, in \u001b[0;36mis_patient_valid\u001b[1;34m(group)\u001b[0m\n\u001b[0;32m      2\u001b[0m \u001b[38;5;28;01mdef\u001b[39;00m \u001b[38;5;21mis_patient_valid\u001b[39m(group):\n\u001b[1;32m----> 3\u001b[0m     \u001b[38;5;28;01mreturn\u001b[39;00m (\u001b[38;5;28mlen\u001b[39m(group) \u001b[38;5;241m==\u001b[39m \u001b[38;5;241m3\u001b[39m) \u001b[38;5;129;01mand\u001b[39;00m (\u001b[38;5;129;01mnot\u001b[39;00m group[\u001b[43mcog_cols\u001b[49m]\u001b[38;5;241m.\u001b[39misnull()\u001b[38;5;241m.\u001b[39many()\u001b[38;5;241m.\u001b[39many())\n",
      "\u001b[1;31mNameError\u001b[0m: name 'cog_cols' is not defined"
     ]
    }
   ],
   "source": [
    "# Step 4: Drop any PATNO who has missing values in any of those columns\n",
    "def is_patient_valid(group):\n",
    "    return (len(group) == 3) and (not group[cog_cols].isnull().any().any())\n",
    "\n",
    "df_control = df_control.groupby(\"PATNO\").filter(is_patient_valid)"
   ]
  }
 ],
 "metadata": {
  "kernelspec": {
   "display_name": "Python 3 (ipykernel)",
   "language": "python",
   "name": "python3"
  },
  "language_info": {
   "codemirror_mode": {
    "name": "ipython",
    "version": 3
   },
   "file_extension": ".py",
   "mimetype": "text/x-python",
   "name": "python",
   "nbconvert_exporter": "python",
   "pygments_lexer": "ipython3",
   "version": "3.11.4"
  }
 },
 "nbformat": 4,
 "nbformat_minor": 5
}
